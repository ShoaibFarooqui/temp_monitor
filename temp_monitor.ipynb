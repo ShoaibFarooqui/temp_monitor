{
 "cells": [
  {
   "cell_type": "markdown",
   "metadata": {},
   "source": [
    "# Automation on Daily Temperature Logging to Spreadsheet/Excel"
   ]
  },
  {
   "cell_type": "markdown",
   "metadata": {},
   "source": [
    "## Govee Thermometer Logging\n",
    "Govee Smart Thermometer downsides include requiring a constant bluetooth connection with phone.\n",
    "Although convenient, an open source solution enables an all-in-one device with internet connectivity without requiring a laptop or phone connected via bluetooth\n",
    "\n",
    "Previous data Upload request only yielded 2 days of temperature and humidity measurements despite being deployed for 13 days\n"
   ]
  },
  {
   "cell_type": "code",
   "execution_count": 19,
   "metadata": {},
   "outputs": [
    {
     "name": "stdout",
     "output_type": "stream",
     "text": [
      "Sample data from Govee Not found..dw 役にたつないだ\n"
     ]
    }
   ],
   "source": [
    "import pandas\n",
    "\n",
    "try:\n",
    "    govee_data =  pandas.read_csv('../。./Downloads/Animal Facility Thermo_export_202404261824.csv')\n",
    "    display(govee_data)\n",
    "\n",
    "except FileNotFoundError:\n",
    "    print('Sample data from Govee Not found..dw 役にたつないだ')\n",
    "    "
   ]
  },
  {
   "cell_type": "code",
   "execution_count": 14,
   "metadata": {},
   "outputs": [],
   "source": [
    "import requests\n",
    "from temp_monitor_api_key import api_key"
   ]
  },
  {
   "cell_type": "code",
   "execution_count": 15,
   "metadata": {},
   "outputs": [],
   "source": [
    "govee_url = 'https://developer-api.govee.com/v1/devices'"
   ]
  },
  {
   "cell_type": "code",
   "execution_count": 16,
   "metadata": {},
   "outputs": [
    {
     "name": "stdout",
     "output_type": "stream",
     "text": [
      "{'data': {'devices': []}, 'message': 'Success', 'code': 200}\n"
     ]
    }
   ],
   "source": [
    "#api request unit test\n",
    "\n",
    "headers = {\n",
    "    'Govee-API-Key': api_key\n",
    "}\n",
    "\n",
    "response = requests.get(govee_url, headers=headers)\n",
    "\n",
    "# 200 = success code\n",
    "if response.status_code == 200:\n",
    "    data = response.json()\n",
    "    print(data)\n",
    "else:\n",
    "    print(f\"Failed to get data: {response.status_code}\")\n"
   ]
  },
  {
   "cell_type": "markdown",
   "metadata": {},
   "source": [
    "## Raspberry Pi App\n",
    "Open Source Hardware Solution for Automating Temperature and Humidity Exports to a SpreadSheet (Google Sheets/Excel)\n",
    "#### Materials\n",
    "- Raspberry Pi Zero WH\n",
    "- DHT Sensor\n",
    "\n",
    "##### Optional\n",
    "- Solder\n",
    "- Case\n",
    "- Breadboard\n",
    "- Jumper wire\n",
    "\n",
    "実際には複雑なる思います\n",
    "\n",
    "じっさいにはふくざつ"
   ]
  },
  {
   "cell_type": "markdown",
   "metadata": {},
   "source": [
    "### ChatGPT output\n",
    "Needs to be corrected to consider Time intervals (60 seconds way too soon). I also dont like dumping everything in a 'data' library. Will Correct from here.. Also I need the adafruit library lol."
   ]
  },
  {
   "cell_type": "code",
   "execution_count": 17,
   "metadata": {},
   "outputs": [
    {
     "ename": "ModuleNotFoundError",
     "evalue": "No module named 'board'",
     "output_type": "error",
     "traceback": [
      "\u001b[0;31m---------------------------------------------------------------------------\u001b[0m",
      "\u001b[0;31mModuleNotFoundError\u001b[0m                       Traceback (most recent call last)",
      "\u001b[1;32m/Users/sho-abe/git/temp_monitor/temp_monitor.ipynb Cell 9\u001b[0m line \u001b[0;36m2\n\u001b[1;32m      <a href='vscode-notebook-cell:/Users/sho-abe/git/temp_monitor/temp_monitor.ipynb#X14sZmlsZQ%3D%3D?line=0'>1</a>\u001b[0m \u001b[39mimport\u001b[39;00m \u001b[39mtime\u001b[39;00m\n\u001b[0;32m----> <a href='vscode-notebook-cell:/Users/sho-abe/git/temp_monitor/temp_monitor.ipynb#X14sZmlsZQ%3D%3D?line=1'>2</a>\u001b[0m \u001b[39mimport\u001b[39;00m \u001b[39mboard\u001b[39;00m\n\u001b[1;32m      <a href='vscode-notebook-cell:/Users/sho-abe/git/temp_monitor/temp_monitor.ipynb#X14sZmlsZQ%3D%3D?line=2'>3</a>\u001b[0m \u001b[39mimport\u001b[39;00m \u001b[39madafruit_dht\u001b[39;00m\n\u001b[1;32m      <a href='vscode-notebook-cell:/Users/sho-abe/git/temp_monitor/temp_monitor.ipynb#X14sZmlsZQ%3D%3D?line=3'>4</a>\u001b[0m \u001b[39mimport\u001b[39;00m \u001b[39mpandas\u001b[39;00m \u001b[39mas\u001b[39;00m \u001b[39mpd\u001b[39;00m\n",
      "\u001b[0;31mModuleNotFoundError\u001b[0m: No module named 'board'"
     ]
    }
   ],
   "source": [
    "import time\n",
    "import board\n",
    "import adafruit_dht\n",
    "import pandas as pd\n",
    "\n",
    "\n",
    "\n",
    "dht_sensor = adafruit_dht.DHT22(board.D18)  # Change D18 to the GPIO pin connected to your DHT sensor\n",
    "\n",
    "# Create an empty DataFrame to store data\n",
    "data = {'Timestamp': [], 'Temperature (°C)': [], 'Humidity (%)': []}\n",
    "df = pd.DataFrame(data)\n",
    "\n",
    "def main():\n",
    "    try:\n",
    "        while True:\n",
    "            # Read temperature and humidity data from DHT sensor\n",
    "            temperature_c = dht_sensor.temperature\n",
    "            humidity = dht_sensor.humidity\n",
    "            \n",
    "            # Print temperature and humidity data to console\n",
    "            print(\"Temperature: {:.1f}°C, Humidity: {:.1f}%\".format(temperature_c, humidity))\n",
    "            \n",
    "            # Append data to DataFrame\n",
    "            df = df.append({'Timestamp': time.strftime('%Y-%m-%d %H:%M:%S'),\n",
    "                            'Temperature (°C)': temperature_c,\n",
    "                            'Humidity (%)': humidity}, ignore_index=True)\n",
    "            \n",
    "            time.sleep(60)  # Read data every 60 seconds\n",
    "            \n",
    "    except KeyboardInterrupt:\n",
    "        print(\"Stopping program\")\n",
    "        # Export DataFrame to Excel file\n",
    "        df.to_excel('temperature_humidity_data.xlsx', index=False)  # Change 'temperature_humidity_data.xlsx' to your desired file name\n",
    "\n",
    "if __name__ == \"__main__\":\n",
    "    main()\n"
   ]
  }
 ],
 "metadata": {
  "kernelspec": {
   "display_name": "base",
   "language": "python",
   "name": "python3"
  },
  "language_info": {
   "codemirror_mode": {
    "name": "ipython",
    "version": 3
   },
   "file_extension": ".py",
   "mimetype": "text/x-python",
   "name": "python",
   "nbconvert_exporter": "python",
   "pygments_lexer": "ipython3",
   "version": "3.9.13"
  }
 },
 "nbformat": 4,
 "nbformat_minor": 2
}
